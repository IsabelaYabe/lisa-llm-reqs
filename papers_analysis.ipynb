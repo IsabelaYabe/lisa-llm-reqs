{
 "cells": [
  {
   "cell_type": "code",
   "execution_count": 5,
   "id": "11e7b18c",
   "metadata": {},
   "outputs": [],
   "source": [
    "import os\n",
    "import pickle\n",
    "from webscraping.web_driver_config import Research, ResearchPaper\n",
    "import pandas as pd\n",
    "from dataclasses import asdict"
   ]
  },
  {
   "cell_type": "code",
   "execution_count": 6,
   "id": "dfff6f24",
   "metadata": {},
   "outputs": [],
   "source": [
    "path_research_1 = os.path.join(\"webscraping\", \"data\", \"ieee_research_data_1.pkl\")\n",
    "path_research_2 = os.path.join(\"webscraping\", \"data\", \"ieee_research_data_2.pkl\")\n",
    "path_research_3 = os.path.join(\"webscraping\", \"data\", \"ieee_research_data_3.pkl\")\n",
    "\n",
    "with open(path_research_1, \"rb\") as file:\n",
    "    research_1 = pickle.load(file)\n",
    "\n",
    "with open(path_research_2, \"rb\") as file:\n",
    "    research_2 = pickle.load(file)\n",
    "\n",
    "with open(path_research_3, \"rb\") as file:\n",
    "    research_3 = pickle.load(file)    "
   ]
  },
  {
   "cell_type": "code",
   "execution_count": null,
   "id": "bbe6dd2c",
   "metadata": {},
   "outputs": [],
   "source": [
    "papers_1 = [paper for paper in research_1.papers.values()]\n",
    "papers_2 = [paper for paper in research_2.papers.values()]\n",
    "papers_3 = [paper for paper in research_3.papers.values()]\n",
    "\n",
    "papers_test =  papers_1 + papers_2 + papers_3\n",
    "\n",
    "papers = papers_1\n",
    "for paper in papers_2:\n",
    "    if paper not in papers:\n",
    "        papers.append(paper)\n",
    "        \n",
    "for paper in papers_3:\n",
    "    if paper not in papers:\n",
    "        papers.append(paper)\n",
    "\n",
    "df_papers = pd.DataFrame([asdict(paper) for paper in papers])\n",
    "df_papers_test = pd.DataFrame([asdict(paper) for paper in papers_test])"
   ]
  },
  {
   "cell_type": "code",
   "execution_count": 20,
   "id": "fe5c650a",
   "metadata": {},
   "outputs": [
    {
     "data": {
      "text/plain": [
       "48"
      ]
     },
     "execution_count": 20,
     "metadata": {},
     "output_type": "execute_result"
    }
   ],
   "source": [
    "len(df_papers_test[\"title\"])"
   ]
  },
  {
   "cell_type": "code",
   "execution_count": 23,
   "id": "a97db2f1",
   "metadata": {},
   "outputs": [
    {
     "data": {
      "text/html": [
       "<div>\n",
       "<style scoped>\n",
       "    .dataframe tbody tr th:only-of-type {\n",
       "        vertical-align: middle;\n",
       "    }\n",
       "\n",
       "    .dataframe tbody tr th {\n",
       "        vertical-align: top;\n",
       "    }\n",
       "\n",
       "    .dataframe thead th {\n",
       "        text-align: right;\n",
       "    }\n",
       "</style>\n",
       "<table border=\"1\" class=\"dataframe\">\n",
       "  <thead>\n",
       "    <tr style=\"text-align: right;\">\n",
       "      <th></th>\n",
       "      <th>title</th>\n",
       "      <th>date</th>\n",
       "      <th>abstract</th>\n",
       "      <th>publisher</th>\n",
       "      <th>DOI</th>\n",
       "      <th>source_url</th>\n",
       "      <th>authors</th>\n",
       "      <th>keywords</th>\n",
       "    </tr>\n",
       "  </thead>\n",
       "  <tbody>\n",
       "    <tr>\n",
       "      <th>0</th>\n",
       "      <td>A Framework for Reviewing and Improving Non-Fu...</td>\n",
       "      <td>20-23 June 2023</td>\n",
       "      <td>The ill-definition or neglect of non-functiona...</td>\n",
       "      <td>Publisher:</td>\n",
       "      <td>10.23919/CISTI58278.2023.10211956</td>\n",
       "      <td>https://ieeexplore.ieee.org/document/10211956</td>\n",
       "      <td>[Abdulrahim Alhaizaey, Majed Al-Mashari]</td>\n",
       "      <td>[[Documentation, Inspection, Software, Natural...</td>\n",
       "    </tr>\n",
       "    <tr>\n",
       "      <th>1</th>\n",
       "      <td>RGBot: A Machine Learning Enabled Requirements...</td>\n",
       "      <td>08-09 December 2023</td>\n",
       "      <td>The creation of mobile app has emerged as an i...</td>\n",
       "      <td>Publisher:</td>\n",
       "      <td>10.1109/ICTBIG59752.2023.10456282</td>\n",
       "      <td>https://ieeexplore.ieee.org/document/10456282</td>\n",
       "      <td>[Anil Patidar, Ugrasen Suman]</td>\n",
       "      <td>[[Machine learning, Transforms, Chatbots, Turn...</td>\n",
       "    </tr>\n",
       "  </tbody>\n",
       "</table>\n",
       "</div>"
      ],
      "text/plain": [
       "                                               title                 date  \\\n",
       "0  A Framework for Reviewing and Improving Non-Fu...      20-23 June 2023   \n",
       "1  RGBot: A Machine Learning Enabled Requirements...  08-09 December 2023   \n",
       "\n",
       "                                            abstract   publisher  \\\n",
       "0  The ill-definition or neglect of non-functiona...  Publisher:   \n",
       "1  The creation of mobile app has emerged as an i...  Publisher:   \n",
       "\n",
       "                                 DOI  \\\n",
       "0  10.23919/CISTI58278.2023.10211956   \n",
       "1  10.1109/ICTBIG59752.2023.10456282   \n",
       "\n",
       "                                      source_url  \\\n",
       "0  https://ieeexplore.ieee.org/document/10211956   \n",
       "1  https://ieeexplore.ieee.org/document/10456282   \n",
       "\n",
       "                                    authors  \\\n",
       "0  [Abdulrahim Alhaizaey, Majed Al-Mashari]   \n",
       "1             [Anil Patidar, Ugrasen Suman]   \n",
       "\n",
       "                                            keywords  \n",
       "0  [[Documentation, Inspection, Software, Natural...  \n",
       "1  [[Machine learning, Transforms, Chatbots, Turn...  "
      ]
     },
     "execution_count": 23,
     "metadata": {},
     "output_type": "execute_result"
    }
   ],
   "source": [
    "df_papers.head(2)"
   ]
  }
 ],
 "metadata": {
  "kernelspec": {
   "display_name": ".venv",
   "language": "python",
   "name": "python3"
  },
  "language_info": {
   "codemirror_mode": {
    "name": "ipython",
    "version": 3
   },
   "file_extension": ".py",
   "mimetype": "text/x-python",
   "name": "python",
   "nbconvert_exporter": "python",
   "pygments_lexer": "ipython3",
   "version": "3.10.12"
  }
 },
 "nbformat": 4,
 "nbformat_minor": 5
}
