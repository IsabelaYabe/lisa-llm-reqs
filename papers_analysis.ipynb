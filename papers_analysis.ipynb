{
 "cells": [
  {
   "cell_type": "code",
   "execution_count": 2,
   "id": "11e7b18c",
   "metadata": {},
   "outputs": [],
   "source": [
    "import os\n",
    "import pickle\n",
    "from webscraping.web_driver_config import Research, ResearchPaper\n",
    "import pandas as pd\n",
    "from dataclasses import asdict"
   ]
  },
  {
   "cell_type": "code",
   "execution_count": 3,
   "id": "dfff6f24",
   "metadata": {},
   "outputs": [],
   "source": [
    "path_research_ieee_1 = os.path.join(\"webscraping\", \"data\", \"ieee_research_data_1.pkl\")\n",
    "path_research_ieee_2 = os.path.join(\"webscraping\", \"data\", \"ieee_research_data_2.pkl\")\n",
    "path_research_ieee_3 = os.path.join(\"webscraping\", \"data\", \"ieee_research_data_3.pkl\")\n",
    "path_research_acm_1 = os.path.join(\"webscraping\", \"data\", \"acm_research_data_1.pkl\")\n",
    "\n",
    "\n",
    "with open(path_research_ieee_1, \"rb\") as file:\n",
    "    research_ieee_1 = pickle.load(file)\n",
    "\n",
    "with open(path_research_ieee_2, \"rb\") as file:\n",
    "    research_ieee_2 = pickle.load(file)\n",
    "\n",
    "with open(path_research_ieee_3, \"rb\") as file:\n",
    "    research_ieee_3 = pickle.load(file)\n",
    "    \n",
    "with open(path_research_acm_1, \"rb\") as file:\n",
    "    research_acm_1 = pickle.load(file)   "
   ]
  },
  {
   "cell_type": "code",
   "execution_count": 12,
   "id": "b98b44ea",
   "metadata": {},
   "outputs": [
    {
     "name": "stdout",
     "output_type": "stream",
     "text": [
      "IEEE Research 1: (\"Full Text & Metadata\":requirements elicitation) AND (\"All Metadata\":language model) AND (\"Abstract\":agile)\n",
      "IEEE Research 1: 2020 - 2025\n",
      "IEEE Research 2: (\"Abstract\":gile requirements) AND (\"Full Text & Metadata\":usage scenario) OR (\"Full Text & Metadata\":user stories) AND (\"Abstract\":language models) AND (\"All Metadata\":elicitation)\n",
      "IEEE Research 2: 2020 - 2025\n",
      "IEEE Research 3: (\"Abstract\":requirements elicitation) AND (\"All Metadata\":language model) AND (\"Abstract\":agile)\n",
      "IEEE Research 3: 2020 - 2025\n",
      "ACM Research 1: [All: requirements elicitation] AND [Abstract: language model] AND [Abstract: agile] \n",
      "ACM Research 1: (05/01/2020 TO 05/31/2025)\n"
     ]
    }
   ],
   "source": [
    "print(f\"IEEE Research 1: {research_ieee_1.keywords}\")\n",
    "print(f\"IEEE Research 1: {research_ieee_1.years}\")\n",
    "\n",
    "print(f\"IEEE Research 2: {research_ieee_2.keywords}\")\n",
    "print(f\"IEEE Research 2: {research_ieee_2.years}\")\n",
    "\n",
    "print(f\"IEEE Research 3: {research_ieee_3.keywords}\")\n",
    "print(f\"IEEE Research 3: {research_ieee_3.years}\")\n",
    "\n",
    "print(f\"ACM Research 1: {research_acm_1.keywords}\")\n",
    "print(f\"ACM Research 1: {research_acm_1.years}\")"
   ]
  },
  {
   "cell_type": "code",
   "execution_count": 4,
   "id": "bbe6dd2c",
   "metadata": {},
   "outputs": [],
   "source": [
    "papers_ieee_1 = [paper for paper in research_ieee_1.papers.values()]\n",
    "papers_ieee_2 = [paper for paper in research_ieee_2.papers.values()]\n",
    "papers_ieee_3 = [paper for paper in research_ieee_3.papers.values()]\n",
    "papers_acm_1 = [paper for paper in research_acm_1.papers.values()]\n",
    " \n",
    "papers_test =  papers_ieee_1 + papers_ieee_2 + papers_ieee_3 + papers_acm_1\n",
    "\n",
    "papers = papers_ieee_1\n",
    "\n",
    "for paper in papers_ieee_2:\n",
    "    if paper not in papers:\n",
    "        papers.append(paper)\n",
    "        \n",
    "for paper in papers_ieee_3:\n",
    "    if paper not in papers:\n",
    "        papers.append(paper)\n",
    "\n",
    "for paper in papers_acm_1:\n",
    "    if paper not in papers:\n",
    "        papers.append(paper)\n",
    "        \n",
    "df_papers = pd.DataFrame([asdict(paper) for paper in papers])\n",
    "df_papers_test = pd.DataFrame([asdict(paper) for paper in papers_test])"
   ]
  },
  {
   "cell_type": "code",
   "execution_count": 7,
   "id": "fe5c650a",
   "metadata": {},
   "outputs": [
    {
     "name": "stdout",
     "output_type": "stream",
     "text": [
      "63\n",
      "59\n"
     ]
    }
   ],
   "source": [
    "print(len(df_papers_test[\"title\"]))\n",
    "print(len(df_papers[\"title\"]))"
   ]
  },
  {
   "cell_type": "code",
   "execution_count": 6,
   "id": "a97db2f1",
   "metadata": {},
   "outputs": [
    {
     "data": {
      "text/html": [
       "<div>\n",
       "<style scoped>\n",
       "    .dataframe tbody tr th:only-of-type {\n",
       "        vertical-align: middle;\n",
       "    }\n",
       "\n",
       "    .dataframe tbody tr th {\n",
       "        vertical-align: top;\n",
       "    }\n",
       "\n",
       "    .dataframe thead th {\n",
       "        text-align: right;\n",
       "    }\n",
       "</style>\n",
       "<table border=\"1\" class=\"dataframe\">\n",
       "  <thead>\n",
       "    <tr style=\"text-align: right;\">\n",
       "      <th></th>\n",
       "      <th>title</th>\n",
       "      <th>date</th>\n",
       "      <th>abstract</th>\n",
       "      <th>DOI</th>\n",
       "      <th>source_url</th>\n",
       "      <th>authors</th>\n",
       "      <th>keywords</th>\n",
       "    </tr>\n",
       "  </thead>\n",
       "  <tbody>\n",
       "    <tr>\n",
       "      <th>0</th>\n",
       "      <td>A Framework for Reviewing and Improving Non-Fu...</td>\n",
       "      <td>20-23 June 2023</td>\n",
       "      <td>The ill-definition or neglect of non-functiona...</td>\n",
       "      <td>10.23919/CISTI58278.2023.10211956</td>\n",
       "      <td>https://ieeexplore.ieee.org/document/10211956</td>\n",
       "      <td>[Abdulrahim Alhaizaey, Majed Al-Mashari]</td>\n",
       "      <td>[[Documentation, Inspection, Software, Natural...</td>\n",
       "    </tr>\n",
       "    <tr>\n",
       "      <th>1</th>\n",
       "      <td>RGBot: A Machine Learning Enabled Requirements...</td>\n",
       "      <td>08-09 December 2023</td>\n",
       "      <td>The creation of mobile app has emerged as an i...</td>\n",
       "      <td>10.1109/ICTBIG59752.2023.10456282</td>\n",
       "      <td>https://ieeexplore.ieee.org/document/10456282</td>\n",
       "      <td>[Anil Patidar, Ugrasen Suman]</td>\n",
       "      <td>[[Machine learning, Transforms, Chatbots, Turn...</td>\n",
       "    </tr>\n",
       "  </tbody>\n",
       "</table>\n",
       "</div>"
      ],
      "text/plain": [
       "                                               title                 date  \\\n",
       "0  A Framework for Reviewing and Improving Non-Fu...      20-23 June 2023   \n",
       "1  RGBot: A Machine Learning Enabled Requirements...  08-09 December 2023   \n",
       "\n",
       "                                            abstract  \\\n",
       "0  The ill-definition or neglect of non-functiona...   \n",
       "1  The creation of mobile app has emerged as an i...   \n",
       "\n",
       "                                 DOI  \\\n",
       "0  10.23919/CISTI58278.2023.10211956   \n",
       "1  10.1109/ICTBIG59752.2023.10456282   \n",
       "\n",
       "                                      source_url  \\\n",
       "0  https://ieeexplore.ieee.org/document/10211956   \n",
       "1  https://ieeexplore.ieee.org/document/10456282   \n",
       "\n",
       "                                    authors  \\\n",
       "0  [Abdulrahim Alhaizaey, Majed Al-Mashari]   \n",
       "1             [Anil Patidar, Ugrasen Suman]   \n",
       "\n",
       "                                            keywords  \n",
       "0  [[Documentation, Inspection, Software, Natural...  \n",
       "1  [[Machine learning, Transforms, Chatbots, Turn...  "
      ]
     },
     "execution_count": 6,
     "metadata": {},
     "output_type": "execute_result"
    }
   ],
   "source": [
    "df_papers.head(2)"
   ]
  }
 ],
 "metadata": {
  "kernelspec": {
   "display_name": ".venv",
   "language": "python",
   "name": "python3"
  },
  "language_info": {
   "codemirror_mode": {
    "name": "ipython",
    "version": 3
   },
   "file_extension": ".py",
   "mimetype": "text/x-python",
   "name": "python",
   "nbconvert_exporter": "python",
   "pygments_lexer": "ipython3",
   "version": "3.10.12"
  }
 },
 "nbformat": 4,
 "nbformat_minor": 5
}
