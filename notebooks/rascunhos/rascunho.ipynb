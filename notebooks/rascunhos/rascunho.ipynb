{
 "cells": [
  {
   "cell_type": "code",
   "execution_count": 2,
   "metadata": {},
   "outputs": [],
   "source": [
    "import time"
   ]
  },
  {
   "cell_type": "code",
   "execution_count": 3,
   "metadata": {},
   "outputs": [
    {
     "name": "stdout",
     "output_type": "stream",
     "text": [
      "1745009338.2505052\n",
      "832040\n",
      "1745009338.5381708\n",
      "832040\n",
      "1745009338.7761555\n",
      "832040\n",
      "1745009339.009274\n"
     ]
    }
   ],
   "source": [
    "def fib(n):\n",
    "    if n <= 1:\n",
    "        return n\n",
    "    else:\n",
    "        return fib(n-1) + fib(n-2)\n",
    "\n",
    "print(time.time())\n",
    "print(fib(30))\n",
    "print(time.time())\n",
    "print(fib(30))\n",
    "print(time.time())\n",
    "print(fib(30))\n",
    "print(time.time())"
   ]
  },
  {
   "cell_type": "code",
   "execution_count": 4,
   "metadata": {},
   "outputs": [
    {
     "name": "stdout",
     "output_type": "stream",
     "text": [
      "Computing fib(5)\n",
      "Computing fib(4)\n",
      "Computing fib(3)\n",
      "Computing fib(2)\n",
      "Computing fib(1)\n",
      "Computing fib(0)\n",
      "memo[2] = 1\n",
      "Computing fib(1)\n",
      "memo[3] = 2\n",
      "Returning memo[2] = 1\n",
      "memo[4] = 3\n",
      "Returning memo[3] = 2\n",
      "memo[5] = 5\n"
     ]
    },
    {
     "data": {
      "text/plain": [
       "5"
      ]
     },
     "execution_count": 4,
     "metadata": {},
     "output_type": "execute_result"
    }
   ],
   "source": [
    "def fib(n, memo):\n",
    "    if n in memo:\n",
    "        print(f\"Returning memo[{n}] = {memo[n]}\")\n",
    "        return memo[n]\n",
    "    \n",
    "    print(f\"Computing fib({n})\")\n",
    "    if n <= 1:\n",
    "        return n\n",
    "\n",
    "    memo[n] = fib(n-1, memo) + fib(n-2, memo)\n",
    "    print(f\"memo[{n}] = {memo[n]}\")\n",
    "    return memo[n]\n",
    "\n",
    "dici = {}\n",
    "fib(5, dici)"
   ]
  },
  {
   "cell_type": "code",
   "execution_count": 5,
   "metadata": {},
   "outputs": [
    {
     "name": "stdout",
     "output_type": "stream",
     "text": [
      "1745009339.04577\n",
      "1548008755920\n",
      "1745009339.0463414\n",
      "1548008755920\n",
      "1745009339.0463414\n",
      "1548008755920\n",
      "1745009339.0463414\n"
     ]
    }
   ],
   "source": [
    "def fib(n, memo):\n",
    "    if n in memo:\n",
    "        return memo [n]\n",
    "    \n",
    "    if n <= 1:\n",
    "        return n\n",
    "    \n",
    "    memo[n] = fib(n-1, memo) + fib(n-2, memo)\n",
    "    return memo[n] \n",
    "meio = {}\n",
    "print(time.time())\n",
    "print(fib(60, meio))\n",
    "print(time.time())\n",
    "print(fib(60, meio))\n",
    "print(time.time())\n",
    "print(fib(60, meio))\n",
    "print(time.time())"
   ]
  },
  {
   "cell_type": "code",
   "execution_count": 6,
   "metadata": {},
   "outputs": [
    {
     "name": "stdout",
     "output_type": "stream",
     "text": [
      "a: 1743203343296\n",
      "b: 1743203343296\n"
     ]
    }
   ],
   "source": [
    "a = [1, 2, 3]\n",
    "b = a\n",
    "\n",
    "print(f\"a: {id(a)}\")\n",
    "print(f\"b: {id(b)}\")\n",
    "\n",
    "b.extend([4,5,6])"
   ]
  },
  {
   "cell_type": "code",
   "execution_count": 7,
   "metadata": {},
   "outputs": [
    {
     "name": "stdout",
     "output_type": "stream",
     "text": [
      "a: 10\n",
      "b: 10\n",
      "Novo texto\n",
      "a: 20\n",
      "b: 10\n"
     ]
    }
   ],
   "source": [
    "a = 10 # alocação 1\n",
    "b = a #  b fica com alocação 1, O B é uma referencia para a, a e b compartilham mesmo espaço em memória\n",
    "print(f\"a: {a}\")\n",
    "print(f\"b: {b}\")\n",
    "a = 20 # Agora a possui uma nova alocação na memoria  alocação de a é 2 \n",
    "print(\"Novo texto\")\n",
    "print(f\"a: {a}\")\n",
    "print(f\"b: {b}\")"
   ]
  },
  {
   "cell_type": "code",
   "execution_count": 8,
   "metadata": {},
   "outputs": [
    {
     "name": "stdout",
     "output_type": "stream",
     "text": [
      "0\n",
      "1\n",
      "2\n",
      "3\n",
      "4\n",
      "5\n",
      "6\n",
      "7\n",
      "8\n",
      "9\n"
     ]
    }
   ],
   "source": [
    "count = 0 # Count é alocado em 1\n",
    "while count < 10: # no count alocado em 2  \n",
    "    print(count) # printa o count alocado em 2\n",
    "    count += 1 # count = count + 1 # reinvoca a variavel count alocada em 2 e ela recebe o valor 1\n",
    "\n"
   ]
  },
  {
   "cell_type": "code",
   "execution_count": 9,
   "metadata": {},
   "outputs": [
    {
     "name": "stdout",
     "output_type": "stream",
     "text": [
      "0\n",
      "1\n",
      "2\n",
      "3\n",
      "4\n",
      "5\n",
      "6\n",
      "7\n",
      "8\n",
      "9\n",
      "[0, 1, 2, 3, 4, 5, 6, 7, 8, 9]\n"
     ]
    }
   ],
   "source": [
    "def meu_range(inicio, fim):\n",
    "    while inicio < fim:\n",
    "        print(inicio)\n",
    "        yield inicio\n",
    "        inicio += 1\n",
    "\n",
    "print(list(meu_range(0,10)))"
   ]
  },
  {
   "cell_type": "code",
   "execution_count": 10,
   "metadata": {},
   "outputs": [
    {
     "name": "stdout",
     "output_type": "stream",
     "text": [
      "[[4, 5, 6]]\n"
     ]
    }
   ],
   "source": [
    "a = []\n",
    "b = [4,5,6]\n",
    "a.append(b)\n",
    "print(a)"
   ]
  },
  {
   "cell_type": "code",
   "execution_count": 11,
   "metadata": {},
   "outputs": [],
   "source": [
    "import copy\n",
    "\n",
    "class ABC:\n",
    "    def __init__(self, Bernardo):\n",
    "        self._A = Bernardo\n",
    "        self._B = [Bernardo, Bernardo]\n",
    "        self._C = (Bernardo, Bernardo)\n",
    "\n",
    "    @property\n",
    "    def A(self):\n",
    "        return self._A\n",
    "\n",
    "    @A.setter\n",
    "    def A(self, value):\n",
    "        self._A = value\n",
    "\n",
    "    @property\n",
    "    def B(self):\n",
    "        return self._B\n",
    "\n",
    "    @B.setter\n",
    "    def B(self, value):\n",
    "        self._B = value\n",
    "\n",
    "    @property\n",
    "    def C(self):\n",
    "        return self._C\n",
    "\n",
    "    @C.setter\n",
    "    def C(self, value):  \n",
    "        self._C = value\n"
   ]
  },
  {
   "cell_type": "code",
   "execution_count": 13,
   "metadata": {},
   "outputs": [
    {
     "name": "stdout",
     "output_type": "stream",
     "text": [
      "a: <__main__.ABC object at 0x00000195DECBE960>, 1743199660384, [2, 3], [[2, 3], [2, 3]], ([2, 3], [2, 3])\n",
      "b: <__main__.ABC object at 0x00000195DECBE960>, 1743199660384, [2, 3], [[2, 3], [2, 3]], ([2, 3], [2, 3])\n",
      "b_copy: <__main__.ABC object at 0x00000195DF084950>, 1743203617104, [2, 3], [[2, 3], [2, 3]], ([2, 3], [2, 3])\n",
      "b_deepcopy: <__main__.ABC object at 0x00000195DF1837D0>, 1743204661200, [2, 3], [[2, 3], [2, 3]], ([2, 3], [2, 3])\n",
      "a: <__main__.ABC object at 0x00000195DECBE960>, 1743199660384, [2, 3], [[2, 3], [2, 3]], ([2, 3], [2, 3])\n",
      "b: <__main__.ABC object at 0x00000195DECBE960>, 1743199660384, [2, 3], [[2, 3], [2, 3]], ([2, 3], [2, 3])\n",
      "b_copy: <__main__.ABC object at 0x00000195DF084950>, 1743203617104, [2, 3], [[2, 3], [2, 3]], ([2, 3], [2, 3])\n",
      "b_deepcopy: <__main__.ABC object at 0x00000195DF1837D0>, 1743204661200, [2, 3], [[2, 3], [2, 3]], ([2, 3], [2, 3])\n"
     ]
    }
   ],
   "source": [
    "a = ABC([2,3])\n",
    "print(f\"a: {a}, {id(a)}, {a._A}, {a._B}, {a._C}\")\n",
    "b = a\n",
    "print(f\"b: {b}, {id(b)}, {b._A}, {b._B}, {b._C}\")\n",
    "b_copy = copy.copy(b)\n",
    "print(f\"b_copy: {b_copy}, {id(b_copy)}, {b_copy._A}, {b_copy._B}, {b_copy._C}\")\n",
    "b_deepcopy = copy.deepcopy(b)\n",
    "print(f\"b_deepcopy: {b_deepcopy}, {id(b_deepcopy)}, {b_deepcopy._A}, {b_deepcopy._B}, {b_deepcopy._C}\")\n",
    "b._A \n",
    "\n",
    "print(f\"a: {a}, {id(a)}, {a._A}, {a._B}, {a._C}\")\n",
    "print(f\"b: {b}, {id(b)}, {b._A}, {b._B}, {b._C}\")\n",
    "print(f\"b_copy: {b_copy}, {id(b_copy)}, {b_copy._A}, {b_copy._B}, {b_copy._C}\")\n",
    "print(f\"b_deepcopy: {b_deepcopy}, {id(b_deepcopy)}, {b_deepcopy._A}, {b_deepcopy._B}, {b_deepcopy._C}\")"
   ]
  },
  {
   "cell_type": "code",
   "execution_count": 14,
   "metadata": {},
   "outputs": [
    {
     "name": "stdout",
     "output_type": "stream",
     "text": [
      "a: <__main__.ABC object at 0x00000195DF0332F0>, [1, [2, 3]], [[1, [2, 3]], [1, [2, 3]]], ([1, [2, 3]], [1, [2, 3]])\n",
      "b: <__main__.ABC object at 0x00000195DF0332F0>, [1, [2, 3]], [[1, [2, 3]], [1, [2, 3]]], ([1, [2, 3]], [1, [2, 3]])\n",
      "b_copy: <__main__.ABC object at 0x00000195DF1833E0>, [1, [2, 3]], [[1, [2, 3]], [1, [2, 3]]], ([1, [2, 3]], [1, [2, 3]])\n",
      "b_deepcopy <__main__.ABC object at 0x00000195DF182A20>, [1, [2, 3]], [[1, [2, 3]], [1, [2, 3]]], ([1, [2, 3]], [1, [2, 3]])\n",
      "a: <__main__.ABC object at 0x00000195DF0332F0>, [1, ['oi', 3]], [[1, ['oi', 3]], [1, ['oi', 3]]], ([1, ['oi', 3]], [1, ['oi', 3]])\n",
      "b: <__main__.ABC object at 0x00000195DF0332F0>, [1, ['oi', 3]], [[1, ['oi', 3]], [1, ['oi', 3]]], ([1, ['oi', 3]], [1, ['oi', 3]])\n",
      "b_copy: <__main__.ABC object at 0x00000195DF1833E0>, [1, ['oi', 3]], [[1, ['oi', 3]], [1, ['oi', 3]]], ([1, ['oi', 3]], [1, ['oi', 3]])\n",
      "b_deepcopy: <__main__.ABC object at 0x00000195DF182A20>, [1, [2, 3]], [[1, [2, 3]], [1, [2, 3]]], ([1, [2, 3]], [1, [2, 3]])\n"
     ]
    }
   ],
   "source": [
    "a = ABC([1, [2,3]])\n",
    "print(f\"a: {a}, {a.A}, {a.B}, {a.C}\")\n",
    "b = a\n",
    "print(f\"b: {b}, {b.A}, {b.B}, {b.C}\")\n",
    "b_copy = copy.copy(b)\n",
    "print(f\"b_copy: {b_copy}, {b_copy.A}, {b_copy.B}, {b_copy.C}\")\n",
    "b_deepcopy = copy.deepcopy(b)\n",
    "print(f\"b_deepcopy {b_deepcopy}, {b_deepcopy.A}, {b_deepcopy.B}, {b_deepcopy.C}\")\n",
    "a.A[1][0] = \"oi\" \n",
    "\n",
    "\n",
    "print(f\"a: {a}, {a.A}, {a.B}, {a.C}\")\n",
    "print(f\"b: {b}, {b.A}, {b.B}, {b.C}\")\n",
    "print(f\"b_copy: {b_copy}, {b_copy.A}, {b_copy.B}, {b_copy.C}\")\n",
    "print(f\"b_deepcopy: {b_deepcopy}, {b_deepcopy.A}, {b_deepcopy.B}, {b_deepcopy.C}\")\n"
   ]
  },
  {
   "cell_type": "code",
   "execution_count": 15,
   "metadata": {},
   "outputs": [
    {
     "name": "stdout",
     "output_type": "stream",
     "text": [
      "ABC(A='banana', B=['banana', 'banana'], C=('banana', 'banana'))\n"
     ]
    }
   ],
   "source": [
    "class ABC:\n",
    "    def __init__(self, A):\n",
    "        self._A = A\n",
    "        self._B = [A, A]\n",
    "        self._C = (A, A)\n",
    "\n",
    "    def __repr__(self):\n",
    "        return f\"ABC(A={self._A!r}, B={self._B!r}, C={self._C!r})\"\n",
    "\n",
    "obj = ABC(\"banana\")\n",
    "print(obj)\n"
   ]
  },
  {
   "cell_type": "code",
   "execution_count": 16,
   "metadata": {},
   "outputs": [
    {
     "name": "stdout",
     "output_type": "stream",
     "text": [
      "Isabela, 25 anos\n"
     ]
    }
   ],
   "source": [
    "class Pessoa:\n",
    "    def __init__(self, nome, idade):\n",
    "        self.nome = nome\n",
    "        self.idade = idade\n",
    "\n",
    "    def __str__(self):\n",
    "        return f\"{self.nome}, {self.idade} anos\"\n",
    "p = Pessoa(\"Isabela\", 25)\n",
    "print(p)\n"
   ]
  },
  {
   "cell_type": "code",
   "execution_count": 17,
   "metadata": {},
   "outputs": [
    {
     "name": "stdout",
     "output_type": "stream",
     "text": [
      "str(p) (1, 2) 1743204655120\n",
      "p (1, 2) 1743204659136\n",
      "p_copy (1, 2) 1743204655120\n",
      "str(p) (1, 2) 1743204654544\n",
      "p (1, 2) 1743204659136\n",
      "p_copy (1, 2) 1743204655120\n"
     ]
    }
   ],
   "source": [
    "import copy\n",
    "class Ponto:\n",
    "    def __init__(self, x, y):\n",
    "        self.x = x\n",
    "        self.y = y\n",
    "\n",
    "    def __repr__(self):\n",
    "        return f\"Ponto(x={self.x!r}, y={self.y!r})\"\n",
    "    \n",
    "    def __str__(self):\n",
    "        return f\"({self.x}, {self.y})\"\n",
    "    \n",
    "p = Ponto(1,2)\n",
    "print(\"str(p)\", str(p), id(str(p)))\n",
    "p_copy = str(p)\n",
    "print(\"p\", p, id(p))\n",
    "print(\"p_copy\", p_copy, id(p_copy))\n",
    "print(\"str(p)\", str(p), id(str(p)))\n",
    "print(\"p\", p, id(p))\n",
    "print(\"p_copy\", p_copy, id(p_copy))\n",
    "# quando eu printo o str(p), ele cria um novo objeto? ele não existe antes de ser criado e sempre que é printado se recria?\n",
    "# o elemento str é imutável, logo sempre que ele é chamado ele é recriado"
   ]
  },
  {
   "cell_type": "code",
   "execution_count": 18,
   "metadata": {},
   "outputs": [
    {
     "name": "stdout",
     "output_type": "stream",
     "text": [
      "140728194898360\n"
     ]
    }
   ],
   "source": [
    "carros = 1\n",
    "print(id(carros))"
   ]
  },
  {
   "cell_type": "code",
   "execution_count": 19,
   "metadata": {},
   "outputs": [
    {
     "name": "stdout",
     "output_type": "stream",
     "text": [
      "True\n",
      "<class 'list'>\n",
      "1743209457856\n",
      "1743209352896\n",
      "1743209457856\n",
      "As listas possuem mesmos valores\n",
      "As listas não possuem mesmos ids\n"
     ]
    }
   ],
   "source": [
    "carros = [\"gol\"]\n",
    "carross = \"gol\"\n",
    "print(isinstance(carros, list))\n",
    "print(type(carros))\n",
    "print(id(carros))\n",
    "print(id([\"gol\"]))\n",
    "carros.append(\"golf\")\n",
    "print(id(carros))\n",
    "if [\"gol\"] == [\"gol\"]:\n",
    "    print(\"As listas possuem mesmos valores\")\n",
    "if id([\"gol\"]) == id([\"gol\"]):\n",
    "    print(\"As listas não possuem mesmos ids\")\n",
    "\n",
    "# Porque nos prints print(id(carros), print(id((\"gol\",))) temos ids diferentes?  \n",
    "\n",
    "# E porque quando é str os ids são iguais?"
   ]
  },
  {
   "cell_type": "code",
   "execution_count": null,
   "metadata": {},
   "outputs": [],
   "source": [
    "carros = (\"gol\",)\n",
    "carross = \"gol\"\n",
    "print(isinstance(carros, tuple))\n",
    "print(type(carros))\n",
    "print(id(carros))\n",
    "print(id((\"gol\",)))\n",
    "\n",
    "if (\"gol\",) == (\"gol\",):\n",
    "    print(\"As tuplas possuem mesmos valores\")\n",
    "if id((\"gol\",)) == id((\"gol\",)):\n",
    "    print(\"As tuplas não possuem mesmos ids\")\n",
    "print(isinstance(carross, tuple))\n",
    "print(type(carross))\n",
    "print(id(carross))\n",
    "print(id(\"gol\"))\n",
    "# Porque nos prints print(id(carros), print(id((\"gol\",))) temos ids diferentes?  \n",
    "\n",
    "# E porque quando é str os ids são iguais?"
   ]
  },
  {
   "cell_type": "code",
   "execution_count": null,
   "metadata": {},
   "outputs": [],
   "source": [
    "a = \"gol\"\n",
    "b = \"gol\"\n",
    "print(a is b)\n",
    "\n",
    "x = 100\n",
    "y = 100\n",
    "print(x is y) \n",
    "\n",
    "z = 999\n",
    "w = 999\n",
    "\n",
    "print(z is w) \n",
    "\n",
    "i = 100\n",
    "j = 100\n",
    "print(id(i))\n",
    "print(id(j))\n",
    "print(repr(i))\n",
    "print(repr(j))\n",
    "while (i is j):\n",
    "    i += 1\n",
    "    j += 1\n",
    "print(i)\n",
    "print(j)\n",
    "print(id(i))\n",
    "print(id(j))\n",
    "m = 1000\n",
    "n = 1000\n",
    "print(m is n)"
   ]
  },
  {
   "cell_type": "code",
   "execution_count": null,
   "metadata": {},
   "outputs": [],
   "source": [
    "carros = (\"gol\", \"celta\", \"palio\")\n",
    "print(carros[0])\n",
    "carros[0] = \"golf\""
   ]
  },
  {
   "cell_type": "code",
   "execution_count": null,
   "metadata": {},
   "outputs": [],
   "source": [
    "carros = (\"gol\")\n",
    "carross = \"gol\"\n",
    "print(isinstance(carros, tuple))\n",
    "print(type(carros))\n",
    "print(id(carros))\n",
    "print(id((\"gol\")))\n",
    "print(isinstance(carross, tuple))\n",
    "print(type(carross))\n",
    "print(id(carross))\n",
    "print(id(\"gol\"))"
   ]
  },
  {
   "cell_type": "code",
   "execution_count": null,
   "metadata": {},
   "outputs": [],
   "source": [
    "from time import sleep"
   ]
  },
  {
   "cell_type": "code",
   "execution_count": null,
   "metadata": {},
   "outputs": [],
   "source": [
    "a = [[0,1],[2,3]]\n",
    "b = copy.deepcopy(a)\n",
    "\n",
    "print(f\"a: {a}\")\n",
    "print(f\"b: {b}\")\n",
    "A = \"Abore\"\n",
    "print(\"Bernardo\")\n",
    "print(f\"a[0][0]: {a[0][0]}\")\n",
    "a[0][0]= \"oi\"\n",
    "\n",
    "print(f\"a: {a}\")\n",
    "print(f\"b: {b}\")\n"
   ]
  }
 ],
 "metadata": {
  "kernelspec": {
   "display_name": "Python 3",
   "language": "python",
   "name": "python3"
  },
  "language_info": {
   "codemirror_mode": {
    "name": "ipython",
    "version": 3
   },
   "file_extension": ".py",
   "mimetype": "text/x-python",
   "name": "python",
   "nbconvert_exporter": "python",
   "pygments_lexer": "ipython3",
   "version": "3.12.3"
  }
 },
 "nbformat": 4,
 "nbformat_minor": 2
}
