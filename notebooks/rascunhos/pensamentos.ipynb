{
 "cells": [
  {
   "cell_type": "markdown",
   "metadata": {},
   "source": [
    "## Ideia\n",
    "\n",
    "Primeiro vou fazer meu grafo, depois vou fazer meus clusteres, depois vou gerar cenários de uso. \n",
    "\n",
    "Com os cenários de uso eu vou usa-los para treinar meu modelo e validá-lo \n",
    "Eu vou fazer embeddings com um bert para identificar contexto, eu posso fazer resumo de cada requerimento para alimentar contexto o que é parecido com a insdústria.\n",
    "\n",
    "Eu preciso fazer o gráfo dos requerimentos para eu conseguir fazer os clusteres, para eu poder fazer os cenários de uso.\n",
    "\n",
    "Quando eu tiver os cenários eu devo separalos em frases do tipo história de usuários e em seguida criar os requisitos, (para criar os requisitos acredito que o peso para o I Want deva ser maior, pois parece fazer mais sentido com o requisito em si)"
   ]
  },
  {
   "cell_type": "markdown",
   "metadata": {},
   "source": [
    "## Clusterização\n",
    "\n",
    "Implementar algoritmo de clusterização em grafos\n",
    "usar PyTorch Geometric\n",
    "\n",
    "## Personas\n",
    "\n",
    "## Objetos\n",
    "\n",
    "## Melhorias\n"
   ]
  },
  {
   "cell_type": "markdown",
   "metadata": {},
   "source": [
    "## ideias para o modelo que irá gerar os requisitos\n",
    "achar os tres tipos que queremos \n",
    "como [mask_1], eu quero [mask_2], [propósito]\n",
    "eu tenho que usar o dep para ajudar meu modelo"
   ]
  },
  {
   "cell_type": "markdown",
   "metadata": {},
   "source": [
    "## Cenário -> user stories\n",
    "\n",
    "Pega o cenário, divide ele em storias de usuários, por exemplo em persona, quero, propósito "
   ]
  },
  {
   "cell_type": "code",
   "execution_count": 1,
   "metadata": {},
   "outputs": [],
   "source": [
    "import pandas as pd \n",
    "import os\n",
    "df = pd.read_csv(os.path.join(\"data\",\"pure_req_user_stories.csv\"))\n"
   ]
  },
  {
   "cell_type": "code",
   "execution_count": 9,
   "metadata": {},
   "outputs": [
    {
     "name": "stdout",
     "output_type": "stream",
     "text": [
      "The solution should provide detailed context-sensitive help material for all the possible actions and scenarios on all user interfaces in the application.\n",
      "As a user of the application, I want to have access to detailed context-sensitive help material for all possible actions and scenarios on all user interfaces, so that I can quickly understand how to use the application effectively and resolve any issues that may arise.\n",
      "+========================+========================+\n",
      "The help should be accessible to the users both in the offline and online mode.\n",
      "As a user, I want to be able to access help resources both when I have an internet connection and when I don't, so that I can get assistance whenever I need it.\n",
      "+========================+========================+\n",
      "The solution should provide an interface for the user to log any defects or enhancement requests on the application and track thereafter.\n",
      "As a user of the application, I want to be able to log defects or enhancement requests and track their status so that I can easily report and monitor issues and improvements.\n",
      "+========================+========================+\n",
      "The solution should send alerts (e.g., email, SMS) to the user if the user chooses to whenever any action has been taken on the alert\n",
      "As a user, I want to receive customizable alerts (e.g., email, SMS) whenever any action has been taken on an alert I've set up, so that I can stay informed and up-to-date on the status of my alerts in real-time.\n",
      "+========================+========================+\n",
      "The solution should enable the user to track the submitted defect or enhancement request.\n",
      "As a user, I want to be able to track the status of my submitted defect or enhancement request so that I can stay informed about its progress and resolution.\n",
      "+========================+========================+\n",
      "The solution should enable the help-desk user to view the reports on the submitted defects or enhancement requests category- wise, status-wise, and age-wise.\n",
      "As a help-desk user, I want to view reports on submitted defects or enhancement requests categorized by type, status, and age, so that I can efficiently track and manage the requests and make informed decisions.\n",
      "+========================+========================+\n"
     ]
    }
   ],
   "source": [
    "count = 0\n",
    "for req in df[\"requirement\"]:\n",
    "    print(req)\n",
    "    us = df[\"user story llama-3-1-405b\"]\n",
    "    print(us[count])\n",
    "    print(\"+========================+========================+\")\n",
    "    count+=1\n",
    "    if count > 5:\n",
    "        break"
   ]
  },
  {
   "cell_type": "code",
   "execution_count": 21,
   "metadata": {},
   "outputs": [
    {
     "name": "stdout",
     "output_type": "stream",
     "text": [
      "The             | POS: DET    | TAG: DT    | DEP: det\n",
      "help            | POS: NOUN   | TAG: NN    | DEP: nsubj\n",
      "should          | POS: AUX    | TAG: MD    | DEP: aux\n",
      "be              | POS: AUX    | TAG: VB    | DEP: ROOT\n",
      "accessible      | POS: ADJ    | TAG: JJ    | DEP: acomp\n",
      "to              | POS: ADP    | TAG: IN    | DEP: prep\n",
      "the             | POS: DET    | TAG: DT    | DEP: det\n",
      "users           | POS: NOUN   | TAG: NNS   | DEP: pobj\n",
      "both            | POS: CCONJ  | TAG: CC    | DEP: preconj\n",
      "in              | POS: ADP    | TAG: IN    | DEP: prep\n",
      "the             | POS: DET    | TAG: DT    | DEP: det\n",
      "offline         | POS: ADJ    | TAG: JJ    | DEP: pobj\n",
      "and             | POS: CCONJ  | TAG: CC    | DEP: cc\n",
      "online          | POS: ADJ    | TAG: JJ    | DEP: conj\n",
      "mode            | POS: NOUN   | TAG: NN    | DEP: conj\n",
      ".               | POS: PUNCT  | TAG: .     | DEP: punct\n"
     ]
    }
   ],
   "source": [
    "import spacy\n",
    "\n",
    "nlp=spacy.load(\"en_core_web_sm\")\n",
    "doc = nlp(\"The help should be accessible to the users both in the offline and online mode.\")\n",
    "\n",
    "for token in doc:\n",
    "    print(f\"{token.text:15} | POS: {token.pos_:6} | TAG: {token.tag_:5} | DEP: {token.dep_}\")\n"
   ]
  }
 ],
 "metadata": {
  "kernelspec": {
   "display_name": "Python 3",
   "language": "python",
   "name": "python3"
  },
  "language_info": {
   "codemirror_mode": {
    "name": "ipython",
    "version": 3
   },
   "file_extension": ".py",
   "mimetype": "text/x-python",
   "name": "python",
   "nbconvert_exporter": "python",
   "pygments_lexer": "ipython3",
   "version": "3.12.3"
  }
 },
 "nbformat": 4,
 "nbformat_minor": 2
}
