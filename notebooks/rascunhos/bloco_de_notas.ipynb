{
 "cells": [
  {
   "cell_type": "markdown",
   "id": "1510b010",
   "metadata": {},
   "source": [
    "# To do\n",
    "Fazer embedding do meu dataset\n",
    "\n",
    "Escolher uma medida de similaridade:\n",
    "    - Similariedade entre os metadados\n",
    "    - Similariedade entre os requisitos\n",
    "    - Similariedade entre as reasons do user story\n",
    "        - Com os maiores graus de similariedade comparar os type_of_user e os goals "
   ]
  },
  {
   "cell_type": "markdown",
   "id": "76e6d450",
   "metadata": {},
   "source": [
    "# RAG\n",
    "Chunkar os documentos nas sessões, depois fazer a indexação, ou seja, o embedding."
   ]
  },
  {
   "cell_type": "code",
   "execution_count": null,
   "id": "e10c970d",
   "metadata": {},
   "outputs": [],
   "source": [
    "lista = [\"Isabela\", \"Bernardo\"]\n",
    "print(int(lista))"
   ]
  },
  {
   "cell_type": "code",
   "execution_count": 10,
   "id": "a3562ed9",
   "metadata": {},
   "outputs": [
    {
     "name": "stdout",
     "output_type": "stream",
     "text": [
      "TESTANDO MAP\n",
      "Results before sleep(6)\n",
      "after 2 sleep\n",
      "after 3 sleep\n",
      "after 1 sleep\n",
      "after 4 sleep\n",
      "Results after sleep(6): ['Return sc: 2', 'Return sc: 3', 'Return sc: 4', 'Return sc: 1']\n",
      "TESTANDO SUBMIT\n",
      "after 2 sleep\n",
      "futures[future]: 2\n",
      "after 3 sleep\n",
      "futures[future]: 3\n",
      "after 1 sleep\n",
      "futures[future]: 1\n",
      "after 4 sleep\n",
      "futures[future]: 4\n"
     ]
    }
   ],
   "source": [
    "import time\n",
    "import concurrent.futures as cf\n",
    "def takes_time(seconds):\n",
    "    time.sleep(seconds)\n",
    "    print(f\"after {seconds} sleep\")\n",
    "    return f\"Return sc: {seconds}\"\n",
    "\n",
    "timer = [2,3,4,1]\n",
    "print(\"TESTANDO MAP\")\n",
    "with cf.ThreadPoolExecutor(max_workers=2) as ex:\n",
    "    results = ex.map(takes_time, [time for time in timer])\n",
    "    #for value in results:\n",
    "    #    print(value)\n",
    "    print(f\"Results before sleep(6)\")\n",
    "    time.sleep(6)\n",
    "    print(f\"Results after sleep(6): {[i for i in results]}\")\n",
    "        \n",
    "print(\"TESTANDO SUBMIT\")\n",
    "with cf.ThreadPoolExecutor(max_workers=2) as ex:\n",
    "    futures = {ex.submit(takes_time, time): time for time in timer}\n",
    "    for future in cf.as_completed(futures):\n",
    "        #print(\"Fanzendo algo com a variável\")\n",
    "        print(f\"futures[future]: {futures[future]}\")\n",
    "        #print(f\"Mostrando future.result(): {future.result()}\")\n",
    "    #print([future.result() for future in futures])    "
   ]
  },
  {
   "cell_type": "code",
   "execution_count": 11,
   "id": "f16dcd63",
   "metadata": {},
   "outputs": [
    {
     "name": "stdout",
     "output_type": "stream",
     "text": [
      "4\n"
     ]
    }
   ],
   "source": [
    "\n",
    "import os\n",
    "print(os.cpu_count())\n",
    "\n"
   ]
  }
 ],
 "metadata": {
  "kernelspec": {
   "display_name": ".venv",
   "language": "python",
   "name": "python3"
  },
  "language_info": {
   "codemirror_mode": {
    "name": "ipython",
    "version": 3
   },
   "file_extension": ".py",
   "mimetype": "text/x-python",
   "name": "python",
   "nbconvert_exporter": "python",
   "pygments_lexer": "ipython3",
   "version": "3.10.12"
  }
 },
 "nbformat": 4,
 "nbformat_minor": 5
}
