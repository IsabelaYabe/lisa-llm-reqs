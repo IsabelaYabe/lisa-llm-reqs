{
 "cells": [
  {
   "cell_type": "code",
   "execution_count": 3,
   "id": "b7327c72",
   "metadata": {},
   "outputs": [],
   "source": [
    "from dataclasses import dataclass, field \n",
    "from typing import List\n",
    "\n",
    "@dataclass\n",
    "class ResearchPaper:\n",
    "    title: str\n",
    "    year: int\n",
    "    abstract: str\n",
    "    publisher: str    \n",
    "    DOI: str\n",
    "    source_url: str\n",
    "    authors: List[str] = field(default_factory=list)\n",
    "    \n",
    "@dataclass\n",
    "class Research:\n",
    "    keywords: str\n",
    "    years: str\n",
    "    publisher: str\n",
    "    url: str\n",
    "    papers: List[ResearchPaper] = field(default_factory=list)"
   ]
  }
 ],
 "metadata": {
  "kernelspec": {
   "display_name": ".venv",
   "language": "python",
   "name": "python3"
  },
  "language_info": {
   "codemirror_mode": {
    "name": "ipython",
    "version": 3
   },
   "file_extension": ".py",
   "mimetype": "text/x-python",
   "name": "python",
   "nbconvert_exporter": "python",
   "pygments_lexer": "ipython3",
   "version": "3.10.12"
  }
 },
 "nbformat": 4,
 "nbformat_minor": 5
}
